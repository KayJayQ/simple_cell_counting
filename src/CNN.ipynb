{
 "cells": [
  {
   "cell_type": "markdown",
   "metadata": {},
   "source": [
    "# CNN step"
   ]
  },
  {
   "cell_type": "code",
   "execution_count": 1,
   "metadata": {},
   "outputs": [],
   "source": [
    "import numpy as np\n",
    "from matplotlib import pyplot as plt\n",
    "from skimage import transform,data"
   ]
  },
  {
   "cell_type": "code",
   "execution_count": 22,
   "metadata": {},
   "outputs": [],
   "source": [
    "def gray(img):\n",
    "    assert img.shape[-1] == 3, \"Wrong color format\"\n",
    "    return img[:,:,0]*0.299 + img[:,:,1]*0.587 + img[:,:,2]*0.114"
   ]
  },
  {
   "cell_type": "markdown",
   "metadata": {},
   "source": [
    "## Standarlize training data"
   ]
  },
  {
   "cell_type": "code",
   "execution_count": 84,
   "metadata": {},
   "outputs": [
    {
     "name": "stdout",
     "output_type": "stream",
     "text": [
      "[[0], [0], [0], [0], [1], [1]]\n"
     ]
    }
   ],
   "source": [
    "import os\n",
    "X_train = []\n",
    "X_label = []\n",
    "for file in os.listdir():\n",
    "    if \"CNN_TRAIN\" not in file:\n",
    "        continue\n",
    "    raw = plt.imread(file)\n",
    "    raw = gray(raw)\n",
    "    raw = transform.resize(raw, (28, 28))\n",
    "    raw = np.expand_dims(raw,0)\n",
    "    raw = np.expand_dims(raw,0)\n",
    "    raw = torch.from_numpy(raw).float()\n",
    "    X_train.append(raw)\n",
    "    X_label.append([int(file.split('_')[-1].split('.')[0])])\n",
    "print(X_label)"
   ]
  },
  {
   "cell_type": "code",
   "execution_count": 94,
   "metadata": {},
   "outputs": [
    {
     "data": {
      "image/png": "[encoded data removed]",
      "text/plain": [
       "<Figure size 432x288 with 1 Axes>"
      ]
     },
     "metadata": {
      "needs_background": "light"
     },
     "output_type": "display_data"
    }
   ],
   "source": [
    "plt.imshow(X_train[0][0][0],cmap=plt.cm.gray)\n",
    "plt.show()"
   ]
  },
  {
   "cell_type": "markdown",
   "metadata": {},
   "source": [
    "## Construct NN model"
   ]
  },
  {
   "cell_type": "code",
   "execution_count": 86,
   "metadata": {},
   "outputs": [],
   "source": [
    "import torch\n",
    "import torch.nn as nn\n",
    "from torch.autograd import Variable"
   ]
  },
  {
   "cell_type": "code",
   "execution_count": 87,
   "metadata": {},
   "outputs": [],
   "source": [
    "class Model(nn.Module):\n",
    "    def __init__(self):\n",
    "        super(Model,self).__init__()\n",
    "        #128,128\n",
    "        self.conv1 = nn.Conv2d(1,6,kernel_size=5,padding=2)\n",
    "        #124,124\n",
    "        self.conv2 = nn.Conv2d(6,16,kernel_size=5)\n",
    "        #58,58\n",
    "        self.conv3 = nn.Conv2d(16,120,kernel_size=5)\n",
    "        self.mp = nn.MaxPool2d(2)\n",
    "        self.relu = nn.ReLU()\n",
    "        self.fc1 = nn.Linear(120,84)\n",
    "        self.fc2 = nn.Linear(84,2)\n",
    "        self.logsoftmax = nn.LogSoftmax()\n",
    "        \n",
    "    def forward(self,x):\n",
    "        in_size = x.size(0)\n",
    "        out = self.relu(self.mp(self.conv1(x)))\n",
    "        out = self.relu(self.mp(self.conv2(out)))\n",
    "        out = self.relu(self.conv3(out))\n",
    "        out = out.view(in_size, -1)\n",
    "        out = self.relu(self.fc1(out))\n",
    "        out = self.fc2(out)\n",
    "        return self.logsoftmax(out)"
   ]
  },
  {
   "cell_type": "code",
   "execution_count": 88,
   "metadata": {},
   "outputs": [],
   "source": [
    "model = Model()\n",
    "loss_fn = nn.NLLLoss()\n",
    "optimizer = torch.optim.SGD(model.parameters(),lr=1e-2,momentum=0.5)"
   ]
  },
  {
   "cell_type": "code",
   "execution_count": 95,
   "metadata": {},
   "outputs": [
    {
     "name": "stderr",
     "output_type": "stream",
     "text": [
      "<ipython-input-87-4e1e2a3f8cfe>:24: UserWarning: Implicit dimension choice for log_softmax has been deprecated. Change the call to include dim=X as an argument.\n",
      "  return self.logsoftmax(out)\n"
     ]
    },
    {
     "name": "stdout",
     "output_type": "stream",
     "text": [
      "0 0 tensor(0.4101)\n",
      "0 1 tensor(0.4107)\n",
      "0 2 tensor(0.4087)\n",
      "0 3 tensor(0.4055)\n",
      "0 4 tensor(1.1062)\n",
      "0 5 tensor(1.1011)\n",
      "1 0 tensor(0.4100)\n",
      "1 1 tensor(0.4106)\n",
      "1 2 tensor(0.4087)\n",
      "1 3 tensor(0.4054)\n",
      "1 4 tensor(1.1064)\n",
      "1 5 tensor(1.1012)\n",
      "2 0 tensor(0.4099)\n",
      "2 1 tensor(0.4106)\n",
      "2 2 tensor(0.4086)\n",
      "2 3 tensor(0.4054)\n",
      "2 4 tensor(1.1065)\n",
      "2 5 tensor(1.1013)\n",
      "3 0 tensor(0.4099)\n",
      "3 1 tensor(0.4105)\n",
      "3 2 tensor(0.4086)\n",
      "3 3 tensor(0.4053)\n",
      "3 4 tensor(1.1066)\n",
      "3 5 tensor(1.1014)\n",
      "4 0 tensor(0.4098)\n",
      "4 1 tensor(0.4105)\n",
      "4 2 tensor(0.4085)\n",
      "4 3 tensor(0.4053)\n",
      "4 4 tensor(1.1067)\n",
      "4 5 tensor(1.1015)\n",
      "5 0 tensor(0.4098)\n",
      "5 1 tensor(0.4104)\n",
      "5 2 tensor(0.4085)\n",
      "5 3 tensor(0.4052)\n",
      "5 4 tensor(1.1068)\n",
      "5 5 tensor(1.1016)\n",
      "6 0 tensor(0.4097)\n",
      "6 1 tensor(0.4104)\n",
      "6 2 tensor(0.4084)\n",
      "6 3 tensor(0.4052)\n",
      "6 4 tensor(1.1069)\n",
      "6 5 tensor(1.1017)\n",
      "7 0 tensor(0.4097)\n",
      "7 1 tensor(0.4103)\n",
      "7 2 tensor(0.4084)\n",
      "7 3 tensor(0.4051)\n",
      "7 4 tensor(1.1070)\n",
      "7 5 tensor(1.1018)\n",
      "8 0 tensor(0.4096)\n",
      "8 1 tensor(0.4103)\n",
      "8 2 tensor(0.4083)\n",
      "8 3 tensor(0.4051)\n",
      "8 4 tensor(1.1070)\n",
      "8 5 tensor(1.1019)\n",
      "9 0 tensor(0.4096)\n",
      "9 1 tensor(0.4102)\n",
      "9 2 tensor(0.4083)\n",
      "9 3 tensor(0.4051)\n",
      "9 4 tensor(1.1071)\n",
      "9 5 tensor(1.1020)\n",
      "10 0 tensor(0.4095)\n",
      "10 1 tensor(0.4102)\n",
      "10 2 tensor(0.4082)\n",
      "10 3 tensor(0.4050)\n",
      "10 4 tensor(1.1072)\n",
      "10 5 tensor(1.1021)\n",
      "11 0 tensor(0.4095)\n",
      "11 1 tensor(0.4101)\n",
      "11 2 tensor(0.4082)\n",
      "11 3 tensor(0.4050)\n",
      "11 4 tensor(1.1073)\n",
      "11 5 tensor(1.1021)\n",
      "12 0 tensor(0.4095)\n",
      "12 1 tensor(0.4101)\n",
      "12 2 tensor(0.4082)\n",
      "12 3 tensor(0.4049)\n",
      "12 4 tensor(1.1073)\n",
      "12 5 tensor(1.1022)\n",
      "13 0 tensor(0.4094)\n",
      "13 1 tensor(0.4101)\n",
      "13 2 tensor(0.4081)\n",
      "13 3 tensor(0.4049)\n",
      "13 4 tensor(1.1074)\n",
      "13 5 tensor(1.1023)\n",
      "14 0 tensor(0.4094)\n",
      "14 1 tensor(0.4100)\n",
      "14 2 tensor(0.4081)\n",
      "14 3 tensor(0.4049)\n",
      "14 4 tensor(1.1075)\n",
      "14 5 tensor(1.1023)\n",
      "15 0 tensor(0.4094)\n",
      "15 1 tensor(0.4100)\n",
      "15 2 tensor(0.4080)\n",
      "15 3 tensor(0.4048)\n",
      "15 4 tensor(1.1075)\n",
      "15 5 tensor(1.1024)\n",
      "16 0 tensor(0.4093)\n",
      "16 1 tensor(0.4100)\n",
      "16 2 tensor(0.4080)\n",
      "16 3 tensor(0.4048)\n",
      "16 4 tensor(1.1076)\n",
      "16 5 tensor(1.1025)\n",
      "17 0 tensor(0.4093)\n",
      "17 1 tensor(0.4099)\n",
      "17 2 tensor(0.4080)\n",
      "17 3 tensor(0.4048)\n",
      "17 4 tensor(1.1077)\n",
      "17 5 tensor(1.1025)\n",
      "18 0 tensor(0.4093)\n",
      "18 1 tensor(0.4099)\n",
      "18 2 tensor(0.4080)\n",
      "18 3 tensor(0.4047)\n",
      "18 4 tensor(1.1077)\n",
      "18 5 tensor(1.1026)\n",
      "19 0 tensor(0.4092)\n",
      "19 1 tensor(0.4099)\n",
      "19 2 tensor(0.4079)\n",
      "19 3 tensor(0.4047)\n",
      "19 4 tensor(1.1078)\n",
      "19 5 tensor(1.1026)\n",
      "20 0 tensor(0.4092)\n",
      "20 1 tensor(0.4098)\n",
      "20 2 tensor(0.4079)\n",
      "20 3 tensor(0.4047)\n",
      "20 4 tensor(1.1078)\n",
      "20 5 tensor(1.1027)\n",
      "21 0 tensor(0.4092)\n",
      "21 1 tensor(0.4098)\n",
      "21 2 tensor(0.4079)\n",
      "21 3 tensor(0.4047)\n",
      "21 4 tensor(1.1079)\n",
      "21 5 tensor(1.1027)\n",
      "22 0 tensor(0.4092)\n",
      "22 1 tensor(0.4098)\n",
      "22 2 tensor(0.4079)\n",
      "22 3 tensor(0.4046)\n",
      "22 4 tensor(1.1079)\n",
      "22 5 tensor(1.1028)\n",
      "23 0 tensor(0.4091)\n",
      "23 1 tensor(0.4098)\n",
      "23 2 tensor(0.4078)\n",
      "23 3 tensor(0.4046)\n",
      "23 4 tensor(1.1080)\n",
      "23 5 tensor(1.1028)\n",
      "24 0 tensor(0.4091)\n",
      "24 1 tensor(0.4097)\n",
      "24 2 tensor(0.4078)\n",
      "24 3 tensor(0.4046)\n",
      "24 4 tensor(1.1080)\n",
      "24 5 tensor(1.1029)\n",
      "25 0 tensor(0.4091)\n",
      "25 1 tensor(0.4097)\n",
      "25 2 tensor(0.4078)\n",
      "25 3 tensor(0.4046)\n",
      "25 4 tensor(1.1080)\n",
      "25 5 tensor(1.1029)\n",
      "26 0 tensor(0.4091)\n",
      "26 1 tensor(0.4097)\n",
      "26 2 tensor(0.4078)\n",
      "26 3 tensor(0.4046)\n",
      "26 4 tensor(1.1081)\n",
      "26 5 tensor(1.1029)\n",
      "27 0 tensor(0.4091)\n",
      "27 1 tensor(0.4097)\n",
      "27 2 tensor(0.4077)\n",
      "27 3 tensor(0.4045)\n",
      "27 4 tensor(1.1081)\n",
      "27 5 tensor(1.1030)\n",
      "28 0 tensor(0.4090)\n",
      "28 1 tensor(0.4097)\n",
      "28 2 tensor(0.4077)\n",
      "28 3 tensor(0.4045)\n",
      "28 4 tensor(1.1082)\n",
      "28 5 tensor(1.1030)\n",
      "29 0 tensor(0.4090)\n",
      "29 1 tensor(0.4097)\n",
      "29 2 tensor(0.4077)\n",
      "29 3 tensor(0.4045)\n",
      "29 4 tensor(1.1082)\n",
      "29 5 tensor(1.1030)\n"
     ]
    }
   ],
   "source": [
    "for epoch in range(30):\n",
    "    for t in range(len(X_train)):\n",
    "        data = Variable(torch.Tensor(X_train[t]))\n",
    "        pred = model(data)\n",
    "        target = Variable(torch.LongTensor(X_label[t]))\n",
    "        loss = loss_fn(pred,target)\n",
    "        print(epoch,t,loss.data)\n",
    "\n",
    "        optimizer.zero_grad()\n",
    "        loss.backward()\n",
    "        optimizer.step()"
   ]
  },
  {
   "cell_type": "markdown",
   "metadata": {},
   "source": [
    "## Test"
   ]
  },
  {
   "cell_type": "code",
   "execution_count": 134,
   "metadata": {},
   "outputs": [],
   "source": [
    "test = plt.imread(\"CNN_TRAIN_2_0.jpeg\")\n",
    "test = gray(test)\n",
    "test = transform.resize(test, (28, 28))\n",
    "test = np.expand_dims(test,0)\n",
    "test = np.expand_dims(test,0)\n",
    "test = torch.from_numpy(test).float()"
   ]
  },
  {
   "cell_type": "code",
   "execution_count": 135,
   "metadata": {},
   "outputs": [
    {
     "data": {
      "image/png": "[encoded data removed]",
      "text/plain": [
       "<Figure size 432x288 with 1 Axes>"
      ]
     },
     "metadata": {
      "needs_background": "light"
     },
     "output_type": "display_data"
    }
   ],
   "source": [
    "plt.imshow(test[0][0],cmap=plt.cm.gray)\n",
    "plt.show()"
   ]
  },
  {
   "cell_type": "code",
   "execution_count": 136,
   "metadata": {},
   "outputs": [
    {
     "name": "stdout",
     "output_type": "stream",
     "text": [
      "0\n"
     ]
    },
    {
     "name": "stderr",
     "output_type": "stream",
     "text": [
      "<ipython-input-87-4e1e2a3f8cfe>:24: UserWarning: Implicit dimension choice for log_softmax has been deprecated. Change the call to include dim=X as an argument.\n",
      "  return self.logsoftmax(out)\n"
     ]
    }
   ],
   "source": [
    "predict = model(test).data.max(1, keepdim=True)[1]\n",
    "print(int(predict[0][0]))"
   ]
  },
  {
   "cell_type": "code",
   "execution_count": 133,
   "metadata": {},
   "outputs": [
    {
     "name": "stdout",
     "output_type": "stream",
     "text": [
      "0.9813333333333334\n"
     ]
    }
   ],
   "source": [
    "correct = 0\n",
    "total = 0\n",
    "for file in os.listdir():\n",
    "    if \"CNN_TEST\" not in file:\n",
    "        continue\n",
    "    total += 1\n",
    "    raw = plt.imread(file)\n",
    "    raw = gray(raw)\n",
    "    raw = transform.resize(raw, (28, 28))\n",
    "    raw = np.expand_dims(raw,0)\n",
    "    raw = np.expand_dims(raw,0)\n",
    "    raw = torch.from_numpy(raw).float()\n",
    "    label = int(file.split('_')[-1].split('.')[0])\n",
    "    out = model(raw)\n",
    "    if int(out.data.max(1, keepdim=True)[1][0][0]) == label:\n",
    "        correct += 1\n",
    "print(correct/total)"
   ]
  },
  {
   "cell_type": "code",
   "execution_count": null,
   "metadata": {},
   "outputs": [],
   "source": []
  }
 ],
 "metadata": {
  "kernelspec": {
   "display_name": "Python 3",
   "language": "python",
   "name": "python3"
  },
  "language_info": {
   "codemirror_mode": {
    "name": "ipython",
    "version": 3
   },
   "file_extension": ".py",
   "mimetype": "text/x-python",
   "name": "python",
   "nbconvert_exporter": "python",
   "pygments_lexer": "ipython3",
   "version": "3.8.6"
  }
 },
 "nbformat": 4,
 "nbformat_minor": 4
}
